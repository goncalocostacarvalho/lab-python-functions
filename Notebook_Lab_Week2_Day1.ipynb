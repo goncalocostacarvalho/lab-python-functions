{
 "cells": [
  {
   "cell_type": "code",
   "execution_count": null,
   "id": "72f24727",
   "metadata": {},
   "outputs": [],
   "source": [
    "products = [\"t-shirt\", \"mug\", \"hat\", \"book\", \"keychain\"]\n",
    "inventory = {}\n",
    "for product in products:\n",
    "    quantity=int(input(f\"enter the quantity of {product} \"))\n",
    "    inventory[product]=quantity\n",
    "customer_orders=set({})\n",
    "answer=\"yes\"\n",
    "while answer==\"yes\":\n",
    "    product = input(f\"Which product do you want to order? \")\n",
    "    if product in products:\n",
    "        customer_orders.add(product)\n",
    "    else:\n",
    "        print(\"Choose a product on the list\")\n",
    "    answer=input(\"Do you want to other more products? Type yes/no \")\n",
    "print(f\"customer_order: {customer_orders}\")"
   ]
  },
  {
   "cell_type": "code",
   "execution_count": 20,
   "id": "5afebf37",
   "metadata": {},
   "outputs": [],
   "source": [
    "inventory = {}\n",
    "def initialize_inventory(products):\n",
    "    for product in products:\n",
    "        quantity=int(input(f\"enter the quantity of {product} \"))\n",
    "        inventory[product]=quantity\n",
    "    return inventory"
   ]
  },
  {
   "cell_type": "code",
   "execution_count": 15,
   "id": "bb8dade7",
   "metadata": {},
   "outputs": [],
   "source": [
    "customer_orders=set({})\n",
    "def get_customer_orders():\n",
    "    answer=\"yes\"\n",
    "    while answer==\"yes\":\n",
    "        product = input(f\"Which product do you want to order? \")\n",
    "        if product in products:\n",
    "            customer_orders.add(product)\n",
    "        else:\n",
    "            print(\"Choose a product on the list\")\n",
    "        answer=input(\"Do you want to other more products? Type yes/no \")\n",
    "    return customer_orders"
   ]
  },
  {
   "cell_type": "code",
   "execution_count": 4,
   "id": "4f79d355",
   "metadata": {},
   "outputs": [],
   "source": [
    "def update_inventory(customer_orders, inventory):\n",
    "    for product in inventory:\n",
    "        if product in customer_orders and inventory[product]>0:\n",
    "            inventory[product]-=1\n",
    "        elif inventory[product]==0:\n",
    "            print(\"There is no stock of the product you ordered\")\n",
    "    return inventory"
   ]
  },
  {
   "cell_type": "code",
   "execution_count": 25,
   "id": "7b562976",
   "metadata": {},
   "outputs": [],
   "source": [
    "def calculate_order_statistics(customer_orders, products):\n",
    "    total_products_ordered=len(customer_orders)\n",
    "    percentage_ordered=(total_products_ordered/sum(inventory.values()))*100\n",
    "    return total_products_ordered, percentage_ordered"
   ]
  },
  {
   "cell_type": "code",
   "execution_count": 7,
   "id": "2488aadd",
   "metadata": {},
   "outputs": [],
   "source": [
    "def print_order_statistics(order_statistics):\n",
    "    print(order_statistics)"
   ]
  },
  {
   "cell_type": "code",
   "execution_count": 8,
   "id": "19e8c447",
   "metadata": {},
   "outputs": [],
   "source": [
    "def print_updated_inventory(inventory):\n",
    "    print(inventory)"
   ]
  },
  {
   "cell_type": "code",
   "execution_count": 21,
   "id": "e8dab02b",
   "metadata": {},
   "outputs": [
    {
     "name": "stdout",
     "output_type": "stream",
     "text": [
      "enter the quantity of t-shirt 5\n",
      "enter the quantity of hat 6\n",
      "enter the quantity of mug 7\n",
      "enter the quantity of book 8\n"
     ]
    },
    {
     "data": {
      "text/plain": [
       "{'t-shirt': 5, 'hat': 6, 'mug': 7, 'book': 8}"
      ]
     },
     "execution_count": 21,
     "metadata": {},
     "output_type": "execute_result"
    }
   ],
   "source": [
    "products=[\"t-shirt\", \"hat\", \"mug\", \"book\"]\n",
    "initialize_inventory(products)"
   ]
  },
  {
   "cell_type": "code",
   "execution_count": 22,
   "id": "403dbdb9",
   "metadata": {},
   "outputs": [
    {
     "name": "stdout",
     "output_type": "stream",
     "text": [
      "Which product do you want to order? hat\n",
      "Do you want to other more products? Type yes/no yes\n",
      "Which product do you want to order? book\n",
      "Do you want to other more products? Type yes/no no\n"
     ]
    },
    {
     "data": {
      "text/plain": [
       "{'book', 'hat'}"
      ]
     },
     "execution_count": 22,
     "metadata": {},
     "output_type": "execute_result"
    }
   ],
   "source": [
    "get_customer_orders()"
   ]
  },
  {
   "cell_type": "code",
   "execution_count": 23,
   "id": "299f526e",
   "metadata": {},
   "outputs": [
    {
     "data": {
      "text/plain": [
       "{'t-shirt': 5, 'hat': 5, 'mug': 7, 'book': 7}"
      ]
     },
     "execution_count": 23,
     "metadata": {},
     "output_type": "execute_result"
    }
   ],
   "source": [
    "customer_orders=set({'book', 'hat'})\n",
    "inventory = {\"t-shirt\":5, \"hat\":6, \"mug\":7, \"book\":8}\n",
    "update_inventory(customer_orders, inventory)"
   ]
  },
  {
   "cell_type": "code",
   "execution_count": 26,
   "id": "92360511",
   "metadata": {},
   "outputs": [
    {
     "data": {
      "text/plain": [
       "(2, 8.333333333333332)"
      ]
     },
     "execution_count": 26,
     "metadata": {},
     "output_type": "execute_result"
    }
   ],
   "source": [
    "calculate_order_statistics(customer_orders, inventory)"
   ]
  },
  {
   "cell_type": "code",
   "execution_count": 28,
   "id": "6438b70a",
   "metadata": {},
   "outputs": [
    {
     "name": "stdout",
     "output_type": "stream",
     "text": [
      "(2, 8.333333333333332)\n"
     ]
    }
   ],
   "source": [
    "order_statistics=(2, 8.333333333333332)\n",
    "print_order_statistics(order_statistics)"
   ]
  },
  {
   "cell_type": "code",
   "execution_count": 29,
   "id": "ca5832d9",
   "metadata": {},
   "outputs": [
    {
     "name": "stdout",
     "output_type": "stream",
     "text": [
      "{'t-shirt': 5, 'hat': 5, 'mug': 7, 'book': 7}\n"
     ]
    }
   ],
   "source": [
    "print_updated_inventory(inventory)"
   ]
  }
 ],
 "metadata": {
  "kernelspec": {
   "display_name": "Python 3 (ipykernel)",
   "language": "python",
   "name": "python3"
  },
  "language_info": {
   "codemirror_mode": {
    "name": "ipython",
    "version": 3
   },
   "file_extension": ".py",
   "mimetype": "text/x-python",
   "name": "python",
   "nbconvert_exporter": "python",
   "pygments_lexer": "ipython3",
   "version": "3.11.5"
  }
 },
 "nbformat": 4,
 "nbformat_minor": 5
}
